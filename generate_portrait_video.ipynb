{
 "cells": [
  {
   "cell_type": "code",
   "execution_count": 2,
   "metadata": {},
   "outputs": [
    {
     "name": "stdout",
     "output_type": "stream",
     "text": [
      "Moviepy - Building video D:\\Study\\AIAgent\\AIEnglishLearning\\output\\0_video.mp4.\n",
      "MoviePy - Writing audio in 0_videoTEMP_MPY_wvf_snd.mp3\n"
     ]
    },
    {
     "name": "stderr",
     "output_type": "stream",
     "text": [
      "                                                                     \r"
     ]
    },
    {
     "name": "stdout",
     "output_type": "stream",
     "text": [
      "MoviePy - Done.\n",
      "Moviepy - Writing video D:\\Study\\AIAgent\\AIEnglishLearning\\output\\0_video.mp4\n",
      "\n"
     ]
    },
    {
     "name": "stderr",
     "output_type": "stream",
     "text": [
      "                                                                \r"
     ]
    },
    {
     "name": "stdout",
     "output_type": "stream",
     "text": [
      "Moviepy - Done !\n",
      "Moviepy - video ready D:\\Study\\AIAgent\\AIEnglishLearning\\output\\0_video.mp4\n",
      "D:\\Study\\AIAgent\\AIEnglishLearning\\output\\0_video.mp4\n",
      "Moviepy - Building video D:\\Study\\AIAgent\\AIEnglishLearning\\output\\1_video.mp4.\n",
      "MoviePy - Writing audio in 1_videoTEMP_MPY_wvf_snd.mp3\n"
     ]
    },
    {
     "name": "stderr",
     "output_type": "stream",
     "text": [
      "                                                                    \r"
     ]
    },
    {
     "name": "stdout",
     "output_type": "stream",
     "text": [
      "MoviePy - Done.\n",
      "Moviepy - Writing video D:\\Study\\AIAgent\\AIEnglishLearning\\output\\1_video.mp4\n",
      "\n"
     ]
    },
    {
     "name": "stderr",
     "output_type": "stream",
     "text": [
      "                                                                \r"
     ]
    },
    {
     "name": "stdout",
     "output_type": "stream",
     "text": [
      "Moviepy - Done !\n",
      "Moviepy - video ready D:\\Study\\AIAgent\\AIEnglishLearning\\output\\1_video.mp4\n",
      "D:\\Study\\AIAgent\\AIEnglishLearning\\output\\1_video.mp4\n",
      "Moviepy - Building video D:\\Study\\AIAgent\\AIEnglishLearning\\output\\2_video.mp4.\n",
      "MoviePy - Writing audio in 2_videoTEMP_MPY_wvf_snd.mp3\n"
     ]
    },
    {
     "name": "stderr",
     "output_type": "stream",
     "text": [
      "                                                                   \r"
     ]
    },
    {
     "name": "stdout",
     "output_type": "stream",
     "text": [
      "MoviePy - Done.\n",
      "Moviepy - Writing video D:\\Study\\AIAgent\\AIEnglishLearning\\output\\2_video.mp4\n",
      "\n"
     ]
    },
    {
     "name": "stderr",
     "output_type": "stream",
     "text": [
      "                                                                \r"
     ]
    },
    {
     "name": "stdout",
     "output_type": "stream",
     "text": [
      "Moviepy - Done !\n",
      "Moviepy - video ready D:\\Study\\AIAgent\\AIEnglishLearning\\output\\2_video.mp4\n",
      "D:\\Study\\AIAgent\\AIEnglishLearning\\output\\2_video.mp4\n",
      "Moviepy - Building video D:\\Study\\AIAgent\\AIEnglishLearning\\output\\3_video.mp4.\n",
      "MoviePy - Writing audio in 3_videoTEMP_MPY_wvf_snd.mp3\n"
     ]
    },
    {
     "name": "stderr",
     "output_type": "stream",
     "text": [
      "                                                                   \r"
     ]
    },
    {
     "name": "stdout",
     "output_type": "stream",
     "text": [
      "MoviePy - Done.\n",
      "Moviepy - Writing video D:\\Study\\AIAgent\\AIEnglishLearning\\output\\3_video.mp4\n",
      "\n"
     ]
    },
    {
     "name": "stderr",
     "output_type": "stream",
     "text": [
      "                                                              \r"
     ]
    },
    {
     "name": "stdout",
     "output_type": "stream",
     "text": [
      "Moviepy - Done !\n",
      "Moviepy - video ready D:\\Study\\AIAgent\\AIEnglishLearning\\output\\3_video.mp4\n",
      "D:\\Study\\AIAgent\\AIEnglishLearning\\output\\3_video.mp4\n",
      "Moviepy - Building video D:\\Study\\AIAgent\\AIEnglishLearning\\output\\4_video.mp4.\n",
      "MoviePy - Writing audio in 4_videoTEMP_MPY_wvf_snd.mp3\n"
     ]
    },
    {
     "name": "stderr",
     "output_type": "stream",
     "text": [
      "                                                                   \r"
     ]
    },
    {
     "name": "stdout",
     "output_type": "stream",
     "text": [
      "MoviePy - Done.\n",
      "Moviepy - Writing video D:\\Study\\AIAgent\\AIEnglishLearning\\output\\4_video.mp4\n",
      "\n"
     ]
    },
    {
     "name": "stderr",
     "output_type": "stream",
     "text": [
      "                                                              \r"
     ]
    },
    {
     "name": "stdout",
     "output_type": "stream",
     "text": [
      "Moviepy - Done !\n",
      "Moviepy - video ready D:\\Study\\AIAgent\\AIEnglishLearning\\output\\4_video.mp4\n",
      "D:\\Study\\AIAgent\\AIEnglishLearning\\output\\4_video.mp4\n",
      "Moviepy - Building video D:\\Study\\AIAgent\\AIEnglishLearning\\output\\5_video.mp4.\n",
      "MoviePy - Writing audio in 5_videoTEMP_MPY_wvf_snd.mp3\n"
     ]
    },
    {
     "name": "stderr",
     "output_type": "stream",
     "text": [
      "                                                                     \r"
     ]
    },
    {
     "name": "stdout",
     "output_type": "stream",
     "text": [
      "MoviePy - Done.\n",
      "Moviepy - Writing video D:\\Study\\AIAgent\\AIEnglishLearning\\output\\5_video.mp4\n",
      "\n"
     ]
    },
    {
     "name": "stderr",
     "output_type": "stream",
     "text": [
      "                                                                \r"
     ]
    },
    {
     "name": "stdout",
     "output_type": "stream",
     "text": [
      "Moviepy - Done !\n",
      "Moviepy - video ready D:\\Study\\AIAgent\\AIEnglishLearning\\output\\5_video.mp4\n",
      "D:\\Study\\AIAgent\\AIEnglishLearning\\output\\5_video.mp4\n",
      "Moviepy - Building video D:\\Study\\AIAgent\\AIEnglishLearning\\output\\6_video.mp4.\n",
      "MoviePy - Writing audio in 6_videoTEMP_MPY_wvf_snd.mp3\n"
     ]
    },
    {
     "name": "stderr",
     "output_type": "stream",
     "text": [
      "                                                                     \r"
     ]
    },
    {
     "name": "stdout",
     "output_type": "stream",
     "text": [
      "MoviePy - Done.\n",
      "Moviepy - Writing video D:\\Study\\AIAgent\\AIEnglishLearning\\output\\6_video.mp4\n",
      "\n"
     ]
    },
    {
     "name": "stderr",
     "output_type": "stream",
     "text": [
      "                                                                \r"
     ]
    },
    {
     "name": "stdout",
     "output_type": "stream",
     "text": [
      "Moviepy - Done !\n",
      "Moviepy - video ready D:\\Study\\AIAgent\\AIEnglishLearning\\output\\6_video.mp4\n",
      "D:\\Study\\AIAgent\\AIEnglishLearning\\output\\6_video.mp4\n",
      "Moviepy - Building video D:\\Study\\AIAgent\\AIEnglishLearning\\output\\7_video.mp4.\n",
      "MoviePy - Writing audio in 7_videoTEMP_MPY_wvf_snd.mp3\n"
     ]
    },
    {
     "name": "stderr",
     "output_type": "stream",
     "text": [
      "                                                                     \r"
     ]
    },
    {
     "name": "stdout",
     "output_type": "stream",
     "text": [
      "MoviePy - Done.\n",
      "Moviepy - Writing video D:\\Study\\AIAgent\\AIEnglishLearning\\output\\7_video.mp4\n",
      "\n"
     ]
    },
    {
     "name": "stderr",
     "output_type": "stream",
     "text": [
      "                                                                \r"
     ]
    },
    {
     "name": "stdout",
     "output_type": "stream",
     "text": [
      "Moviepy - Done !\n",
      "Moviepy - video ready D:\\Study\\AIAgent\\AIEnglishLearning\\output\\7_video.mp4\n",
      "D:\\Study\\AIAgent\\AIEnglishLearning\\output\\7_video.mp4\n",
      "Moviepy - Building video D:\\Study\\AIAgent\\AIEnglishLearning\\output\\8_video.mp4.\n",
      "MoviePy - Writing audio in 8_videoTEMP_MPY_wvf_snd.mp3\n"
     ]
    },
    {
     "name": "stderr",
     "output_type": "stream",
     "text": [
      "                                                                     \r"
     ]
    },
    {
     "name": "stdout",
     "output_type": "stream",
     "text": [
      "MoviePy - Done.\n",
      "Moviepy - Writing video D:\\Study\\AIAgent\\AIEnglishLearning\\output\\8_video.mp4\n",
      "\n"
     ]
    },
    {
     "name": "stderr",
     "output_type": "stream",
     "text": [
      "                                                                \r"
     ]
    },
    {
     "name": "stdout",
     "output_type": "stream",
     "text": [
      "Moviepy - Done !\n",
      "Moviepy - video ready D:\\Study\\AIAgent\\AIEnglishLearning\\output\\8_video.mp4\n",
      "D:\\Study\\AIAgent\\AIEnglishLearning\\output\\8_video.mp4\n",
      "Moviepy - Building video D:\\Study\\AIAgent\\AIEnglishLearning\\output\\9_video.mp4.\n",
      "MoviePy - Writing audio in 9_videoTEMP_MPY_wvf_snd.mp3\n"
     ]
    },
    {
     "name": "stderr",
     "output_type": "stream",
     "text": [
      "                                                                   \r"
     ]
    },
    {
     "name": "stdout",
     "output_type": "stream",
     "text": [
      "MoviePy - Done.\n",
      "Moviepy - Writing video D:\\Study\\AIAgent\\AIEnglishLearning\\output\\9_video.mp4\n",
      "\n"
     ]
    },
    {
     "name": "stderr",
     "output_type": "stream",
     "text": [
      "                                                                \r"
     ]
    },
    {
     "name": "stdout",
     "output_type": "stream",
     "text": [
      "Moviepy - Done !\n",
      "Moviepy - video ready D:\\Study\\AIAgent\\AIEnglishLearning\\output\\9_video.mp4\n",
      "D:\\Study\\AIAgent\\AIEnglishLearning\\output\\9_video.mp4\n",
      "Moviepy - Building video D:\\Study\\AIAgent\\AIEnglishLearning\\output\\10_video.mp4.\n",
      "MoviePy - Writing audio in 10_videoTEMP_MPY_wvf_snd.mp3\n"
     ]
    },
    {
     "name": "stderr",
     "output_type": "stream",
     "text": [
      "                                                                     \r"
     ]
    },
    {
     "name": "stdout",
     "output_type": "stream",
     "text": [
      "MoviePy - Done.\n",
      "Moviepy - Writing video D:\\Study\\AIAgent\\AIEnglishLearning\\output\\10_video.mp4\n",
      "\n"
     ]
    },
    {
     "name": "stderr",
     "output_type": "stream",
     "text": [
      "                                                                \r"
     ]
    },
    {
     "name": "stdout",
     "output_type": "stream",
     "text": [
      "Moviepy - Done !\n",
      "Moviepy - video ready D:\\Study\\AIAgent\\AIEnglishLearning\\output\\10_video.mp4\n",
      "D:\\Study\\AIAgent\\AIEnglishLearning\\output\\10_video.mp4\n",
      "Moviepy - Building video D:\\Study\\AIAgent\\AIEnglishLearning\\output\\11_video.mp4.\n",
      "MoviePy - Writing audio in 11_videoTEMP_MPY_wvf_snd.mp3\n"
     ]
    },
    {
     "name": "stderr",
     "output_type": "stream",
     "text": [
      "                                                                     \r"
     ]
    },
    {
     "name": "stdout",
     "output_type": "stream",
     "text": [
      "MoviePy - Done.\n",
      "Moviepy - Writing video D:\\Study\\AIAgent\\AIEnglishLearning\\output\\11_video.mp4\n",
      "\n"
     ]
    },
    {
     "name": "stderr",
     "output_type": "stream",
     "text": [
      "                                                                \r"
     ]
    },
    {
     "name": "stdout",
     "output_type": "stream",
     "text": [
      "Moviepy - Done !\n",
      "Moviepy - video ready D:\\Study\\AIAgent\\AIEnglishLearning\\output\\11_video.mp4\n",
      "D:\\Study\\AIAgent\\AIEnglishLearning\\output\\11_video.mp4\n",
      "Moviepy - Building video D:\\Study\\AIAgent\\AIEnglishLearning\\output\\12_video.mp4.\n",
      "MoviePy - Writing audio in 12_videoTEMP_MPY_wvf_snd.mp3\n"
     ]
    },
    {
     "name": "stderr",
     "output_type": "stream",
     "text": [
      "                                                                     \r"
     ]
    },
    {
     "name": "stdout",
     "output_type": "stream",
     "text": [
      "MoviePy - Done.\n",
      "Moviepy - Writing video D:\\Study\\AIAgent\\AIEnglishLearning\\output\\12_video.mp4\n",
      "\n"
     ]
    },
    {
     "name": "stderr",
     "output_type": "stream",
     "text": [
      "                                                                \r"
     ]
    },
    {
     "name": "stdout",
     "output_type": "stream",
     "text": [
      "Moviepy - Done !\n",
      "Moviepy - video ready D:\\Study\\AIAgent\\AIEnglishLearning\\output\\12_video.mp4\n",
      "D:\\Study\\AIAgent\\AIEnglishLearning\\output\\12_video.mp4\n",
      "Moviepy - Building video D:\\Study\\AIAgent\\AIEnglishLearning\\output\\13_video.mp4.\n",
      "MoviePy - Writing audio in 13_videoTEMP_MPY_wvf_snd.mp3\n"
     ]
    },
    {
     "name": "stderr",
     "output_type": "stream",
     "text": [
      "                                                                     \r"
     ]
    },
    {
     "name": "stdout",
     "output_type": "stream",
     "text": [
      "MoviePy - Done.\n",
      "Moviepy - Writing video D:\\Study\\AIAgent\\AIEnglishLearning\\output\\13_video.mp4\n",
      "\n"
     ]
    },
    {
     "name": "stderr",
     "output_type": "stream",
     "text": [
      "                                                                \r"
     ]
    },
    {
     "name": "stdout",
     "output_type": "stream",
     "text": [
      "Moviepy - Done !\n",
      "Moviepy - video ready D:\\Study\\AIAgent\\AIEnglishLearning\\output\\13_video.mp4\n",
      "D:\\Study\\AIAgent\\AIEnglishLearning\\output\\13_video.mp4\n",
      "Moviepy - Building video D:\\Study\\AIAgent\\AIEnglishLearning\\output\\14_video.mp4.\n",
      "MoviePy - Writing audio in 14_videoTEMP_MPY_wvf_snd.mp3\n"
     ]
    },
    {
     "name": "stderr",
     "output_type": "stream",
     "text": [
      "                                                                     \r"
     ]
    },
    {
     "name": "stdout",
     "output_type": "stream",
     "text": [
      "MoviePy - Done.\n",
      "Moviepy - Writing video D:\\Study\\AIAgent\\AIEnglishLearning\\output\\14_video.mp4\n",
      "\n"
     ]
    },
    {
     "name": "stderr",
     "output_type": "stream",
     "text": [
      "                                                                \r"
     ]
    },
    {
     "name": "stdout",
     "output_type": "stream",
     "text": [
      "Moviepy - Done !\n",
      "Moviepy - video ready D:\\Study\\AIAgent\\AIEnglishLearning\\output\\14_video.mp4\n",
      "D:\\Study\\AIAgent\\AIEnglishLearning\\output\\14_video.mp4\n",
      "Moviepy - Building video D:\\Study\\AIAgent\\AIEnglishLearning\\output\\15_video.mp4.\n",
      "MoviePy - Writing audio in 15_videoTEMP_MPY_wvf_snd.mp3\n"
     ]
    },
    {
     "name": "stderr",
     "output_type": "stream",
     "text": [
      "                                                                     \r"
     ]
    },
    {
     "name": "stdout",
     "output_type": "stream",
     "text": [
      "MoviePy - Done.\n",
      "Moviepy - Writing video D:\\Study\\AIAgent\\AIEnglishLearning\\output\\15_video.mp4\n",
      "\n"
     ]
    },
    {
     "name": "stderr",
     "output_type": "stream",
     "text": [
      "                                                                \r"
     ]
    },
    {
     "name": "stdout",
     "output_type": "stream",
     "text": [
      "Moviepy - Done !\n",
      "Moviepy - video ready D:\\Study\\AIAgent\\AIEnglishLearning\\output\\15_video.mp4\n",
      "D:\\Study\\AIAgent\\AIEnglishLearning\\output\\15_video.mp4\n",
      "Moviepy - Building video D:\\Study\\AIAgent\\AIEnglishLearning\\output\\16_video.mp4.\n",
      "MoviePy - Writing audio in 16_videoTEMP_MPY_wvf_snd.mp3\n"
     ]
    },
    {
     "name": "stderr",
     "output_type": "stream",
     "text": [
      "                                                                     \r"
     ]
    },
    {
     "name": "stdout",
     "output_type": "stream",
     "text": [
      "MoviePy - Done.\n",
      "Moviepy - Writing video D:\\Study\\AIAgent\\AIEnglishLearning\\output\\16_video.mp4\n",
      "\n"
     ]
    },
    {
     "name": "stderr",
     "output_type": "stream",
     "text": [
      "                                                                \r"
     ]
    },
    {
     "name": "stdout",
     "output_type": "stream",
     "text": [
      "Moviepy - Done !\n",
      "Moviepy - video ready D:\\Study\\AIAgent\\AIEnglishLearning\\output\\16_video.mp4\n",
      "D:\\Study\\AIAgent\\AIEnglishLearning\\output\\16_video.mp4\n",
      "Moviepy - Building video D:\\Study\\AIAgent\\AIEnglishLearning\\output\\17_video.mp4.\n",
      "MoviePy - Writing audio in 17_videoTEMP_MPY_wvf_snd.mp3\n"
     ]
    },
    {
     "name": "stderr",
     "output_type": "stream",
     "text": [
      "                                                                   \r"
     ]
    },
    {
     "name": "stdout",
     "output_type": "stream",
     "text": [
      "MoviePy - Done.\n",
      "Moviepy - Writing video D:\\Study\\AIAgent\\AIEnglishLearning\\output\\17_video.mp4\n",
      "\n"
     ]
    },
    {
     "name": "stderr",
     "output_type": "stream",
     "text": [
      "                                                              \r"
     ]
    },
    {
     "name": "stdout",
     "output_type": "stream",
     "text": [
      "Moviepy - Done !\n",
      "Moviepy - video ready D:\\Study\\AIAgent\\AIEnglishLearning\\output\\17_video.mp4\n",
      "D:\\Study\\AIAgent\\AIEnglishLearning\\output\\17_video.mp4\n",
      "Moviepy - Building video D:\\Study\\AIAgent\\AIEnglishLearning\\output\\18_video.mp4.\n",
      "MoviePy - Writing audio in 18_videoTEMP_MPY_wvf_snd.mp3\n"
     ]
    },
    {
     "name": "stderr",
     "output_type": "stream",
     "text": [
      "                                                                     \r"
     ]
    },
    {
     "name": "stdout",
     "output_type": "stream",
     "text": [
      "MoviePy - Done.\n",
      "Moviepy - Writing video D:\\Study\\AIAgent\\AIEnglishLearning\\output\\18_video.mp4\n",
      "\n"
     ]
    },
    {
     "name": "stderr",
     "output_type": "stream",
     "text": [
      "                                                                \r"
     ]
    },
    {
     "name": "stdout",
     "output_type": "stream",
     "text": [
      "Moviepy - Done !\n",
      "Moviepy - video ready D:\\Study\\AIAgent\\AIEnglishLearning\\output\\18_video.mp4\n",
      "D:\\Study\\AIAgent\\AIEnglishLearning\\output\\18_video.mp4\n"
     ]
    }
   ],
   "source": [
    "from core.video_info import VideoInfoReader\n",
    "from core.key_frame_creator import KeyFrameCreator\n",
    "from core.video_creator import VideoCreator\n",
    "\n",
    "TARGET_CLUSTER_LABEL = 1\n",
    "video_info_reader = VideoInfoReader(f\"D:\\Study\\AIAgent\\AIEnglishLearning\\output\\info_for_video_generation_cluster_{TARGET_CLUSTER_LABEL}.csv\")\n",
    "# Read the info_for_video_generation.csv\n",
    "video_info_csv_data = video_info_reader.read()\n",
    "\n",
    "# Generate image manually, and named with corresponding index\n",
    "\n",
    "# get the first element of the csv_data\n",
    "for single_video_info_for_key_frame in video_info_csv_data:\n",
    "    index = single_video_info_for_key_frame['index']\n",
    "    # if index !='1':\n",
    "    #     continue\n",
    "    single_video_info_for_key_frame['output_path'] = f\"D:\\\\Study\\\\AIAgent\\\\AIEnglishLearning\\\\output\\\\{index}_video.mp4\"\n",
    "    single_video_info_for_key_frame['bgm_path'] = 'D:\\\\Study\\\\AIAgent\\\\AIEnglishLearning\\\\static_materials\\\\scott-buckley-reverie(chosic.com).mp3'\n",
    "    # print(single_video_info_for_key_frame)\n",
    "\n",
    "    key_frame_creator = KeyFrameCreator(single_video_info_for_key_frame)\n",
    "    single_video_info_for_video = key_frame_creator.generate_all_key_frames()\n",
    "    # print(single_video_info_for_video)\n",
    "\n",
    "    video_creator = VideoCreator(single_video_info_for_video)\n",
    "    video_path = video_creator.create_video()\n",
    "    print(video_path)"
   ]
  }
 ],
 "metadata": {
  "kernelspec": {
   "display_name": "Python 3",
   "language": "python",
   "name": "python3"
  },
  "language_info": {
   "codemirror_mode": {
    "name": "ipython",
    "version": 3
   },
   "file_extension": ".py",
   "mimetype": "text/x-python",
   "name": "python",
   "nbconvert_exporter": "python",
   "pygments_lexer": "ipython3",
   "version": "3.10.6"
  }
 },
 "nbformat": 4,
 "nbformat_minor": 2
}
