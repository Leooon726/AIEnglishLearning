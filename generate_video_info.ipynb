{
 "cells": [
  {
   "cell_type": "code",
   "execution_count": 1,
   "metadata": {},
   "outputs": [],
   "source": [
    "from core.visualize_cluster import ClusterReader\n",
    "from core.text_to_image_prompt import TextToImagePrompt\n",
    "from core.sentence_query import ParagraphGenerator\n",
    "from dotenv import load_dotenv\n",
    "from core import utils\n",
    "from core.text_to_speech import TextToSpeech\n",
    "from core.video_info import VideoInfoCollector\n",
    "\n",
    "load_dotenv()\n",
    "\n",
    "def gen_video_info_once(target_words_and_meanings,video_info_collector,output_index):\n",
    "    print(target_words_and_meanings)\n",
    "    # generate sentence and translation and target words\n",
    "    paragraph_generator = ParagraphGenerator(use_reflection=False)\n",
    "    # target_words_and_meanings = [('catalog', 'n. 目录（册） v. 编目'), ('calendar', 'n. 日历，月历'), ('valid', 'a. 有效的，有根据的；正当的')]\n",
    "    paragraph, translation = paragraph_generator.generate(target_words_and_meanings)\n",
    "    print(paragraph,'\\n\\n', translation)\n",
    "\n",
    "    text_to_image_prompt = TextToImagePrompt()\n",
    "    image_prompt = text_to_image_prompt.generate_prompt(translation)\n",
    "    clean_paragraph, bold_words = utils.get_clean_text_and_bold_words(paragraph)\n",
    "    print(clean_paragraph, bold_words)\n",
    "\n",
    "    tts = TextToSpeech()\n",
    "    output_audio_path = f\"D:\\Study\\AIAgent\\AIEnglishLearning\\output\\{output_index}_output_audio.wav\"\n",
    "    tts.synthesize_speech(clean_paragraph, output_audio_path)\n",
    "\n",
    "    clean_translation, bold_word_meanings = utils.get_clean_text_and_bold_words(translation)\n",
    "    print(clean_translation, bold_word_meanings)\n",
    "\n",
    "    print(f\"index: {output_index}\\nimage_prompt: {image_prompt}\\ntarget_words_and_meanings: {target_words_and_meanings}\\nclean_paragraph: {clean_paragraph}\\nbold_words: {bold_words}\\nclean_translation: {clean_translation}\\nbold_word_meanings: {bold_word_meanings}\\naudio_path: {output_audio_path}\")\n",
    "\n",
    "    video_info_collector.write(output_index, image_prompt, target_words_and_meanings, clean_paragraph, bold_words, clean_translation, bold_word_meanings, output_audio_path)\n",
    "\n",
    "def get_three_elements(lst):\n",
    "    for i in range(0, len(lst), 3):\n",
    "        yield lst[i:i + 3] if i + 3 <= len(lst) else lst[-3:]\n",
    "        \n"
   ]
  },
  {
   "cell_type": "code",
   "execution_count": 2,
   "metadata": {},
   "outputs": [
    {
     "name": "stdout",
     "output_type": "stream",
     "text": [
      "Cluster Label: 0\n",
      "word_meaning_tuples length: 27\n"
     ]
    }
   ],
   "source": [
    "from tqdm import tqdm  # Import tqdm for the progress bar\n",
    "\n",
    "cluster_reader = ClusterReader('D:\\Study\\AIAgent\\AIEnglishLearning\\output\\CET4_700_clustered_word_list.csv')\n",
    "\n",
    "target_cluster_label = 0\n",
    "cluster_label, group = cluster_reader.get_group_by_label(target_cluster_label)\n",
    "print(f\"Cluster Label: {cluster_label}\")\n",
    "word_meaning_tuples = list(zip(group['word'], group['meaning']))\n",
    "print('word_meaning_tuples length:', len(word_meaning_tuples))\n"
   ]
  },
  {
   "cell_type": "code",
   "execution_count": 3,
   "metadata": {},
   "outputs": [
    {
     "name": "stdout",
     "output_type": "stream",
     "text": [
      "VideoInfoCollector csv_file_path: D:\\Study\\AIAgent\\AIEnglishLearning\\output\\info_for_video_generation_cluster_0.csv\n"
     ]
    },
    {
     "name": "stderr",
     "output_type": "stream",
     "text": [
      "Processing words: 0it [00:00, ?it/s]2024-10-03 10:44:49,584 - INFO - ArkModelCompletion initialized with API key.\n",
      "2024-10-03 10:44:49,585 - INFO - ParagraphGenerator initialized.\n",
      "2024-10-03 10:44:49,585 - INFO - Generating paragraph with target words: ['catalog', 'calendar', 'valid']\n",
      "2024-10-03 10:44:49,585 - INFO - Generating original paragraph.\n",
      "2024-10-03 10:44:49,586 - INFO - Querying model with system content and user content.\n"
     ]
    },
    {
     "name": "stdout",
     "output_type": "stream",
     "text": [
      "[('catalog', 'n. 目录（册） v. 编目'), ('calendar', 'n. 日历，月历'), ('valid', 'a. 有效的，有根据的；正当的')]\n"
     ]
    },
    {
     "name": "stderr",
     "output_type": "stream",
     "text": [
      "2024-10-03 10:44:52,835 - INFO - HTTP Request: POST https://ark.cn-beijing.volces.com/api/v3/chat/completions \"HTTP/1.1 200 OK\"\n",
      "2024-10-03 10:44:52,837 - INFO - Model query completed.\n",
      "2024-10-03 10:44:52,838 - INFO - Original paragraph generated.\n",
      "2024-10-03 10:44:52,839 - INFO - Translating paragraph to Chinese.\n",
      "2024-10-03 10:44:52,840 - INFO - Querying model with system content and user content.\n",
      "2024-10-03 10:44:55,981 - INFO - HTTP Request: POST https://ark.cn-beijing.volces.com/api/v3/chat/completions \"HTTP/1.1 200 OK\"\n",
      "2024-10-03 10:44:55,981 - INFO - Model query completed.\n",
      "2024-10-03 10:44:55,982 - INFO - Translation completed.\n"
     ]
    },
    {
     "name": "stdout",
     "output_type": "stream",
     "text": [
      "Sally looked at the **catalog** and found a nice dress. She checked the **calendar** to see if there was a suitable day to buy it. She also made sure that the discount she had was **valid**. Then she happily went shopping. \n",
      "\n",
      " 萨莉看了看**商品目录**，发现了一条漂亮的裙子。她查看了**日历**，看看是否有合适的日子去购买它。她还确保她所拥有的折扣是**有效的**。然后她高兴地去购物了。\n",
      "Sally looked at the catalog and found a nice dress. She checked the calendar to see if there was a suitable day to buy it. She also made sure that the discount she had was valid. Then she happily went shopping. ['catalog', 'calendar', 'valid']\n"
     ]
    },
    {
     "name": "stderr",
     "output_type": "stream",
     "text": [
      "Processing words: 1it [00:11, 11.57s/it]2024-10-03 10:45:01,149 - INFO - ArkModelCompletion initialized with API key.\n",
      "2024-10-03 10:45:01,149 - INFO - ParagraphGenerator initialized.\n",
      "2024-10-03 10:45:01,150 - INFO - Generating paragraph with target words: ['code', 'advertise', 'advertisement']\n",
      "2024-10-03 10:45:01,151 - INFO - Generating original paragraph.\n",
      "2024-10-03 10:45:01,151 - INFO - Querying model with system content and user content.\n"
     ]
    },
    {
     "name": "stdout",
     "output_type": "stream",
     "text": [
      "Speech synthesized for text [Sally looked at the catalog and found a nice dress. She checked the calendar to see if there was a suitable day to buy it. She also made sure that the discount she had was valid. Then she happily went shopping.]\n",
      "Audio saved to D:\\Study\\AIAgent\\AIEnglishLearning\\output\\0_output_audio.wav\n",
      "萨莉看了看商品目录，发现了一条漂亮的裙子。她查看了日历，看看是否有合适的日子去购买它。她还确保她所拥有的折扣是有效的。然后她高兴地去购物了。 ['商品目录', '日历', '有效的']\n",
      "index: 0\n",
      "image_prompt: 帮我生成图片：图片风格为「卡通」，比例为「1:1」，内容描述：萨莉看了看**商品目录**，发现了一条漂亮的裙子。她查看了**日历**，看看是否有合适的日子去购买它。她还确保她所拥有的折扣是**有效的**。然后她高兴地去购物了。\n",
      "target_words_and_meanings: [('catalog', 'n. 目录（册） v. 编目'), ('calendar', 'n. 日历，月历'), ('valid', 'a. 有效的，有根据的；正当的')]\n",
      "clean_paragraph: Sally looked at the catalog and found a nice dress. She checked the calendar to see if there was a suitable day to buy it. She also made sure that the discount she had was valid. Then she happily went shopping.\n",
      "bold_words: ['catalog', 'calendar', 'valid']\n",
      "clean_translation: 萨莉看了看商品目录，发现了一条漂亮的裙子。她查看了日历，看看是否有合适的日子去购买它。她还确保她所拥有的折扣是有效的。然后她高兴地去购物了。\n",
      "bold_word_meanings: ['商品目录', '日历', '有效的']\n",
      "audio_path: D:\\Study\\AIAgent\\AIEnglishLearning\\output\\0_output_audio.wav\n",
      "[('code', 'n. 准则，法规，密码'), ('advertise', 'v. 为...做广告'), ('advertisement', 'n. 广告')]\n"
     ]
    },
    {
     "name": "stderr",
     "output_type": "stream",
     "text": [
      "2024-10-03 10:45:04,785 - INFO - HTTP Request: POST https://ark.cn-beijing.volces.com/api/v3/chat/completions \"HTTP/1.1 200 OK\"\n",
      "2024-10-03 10:45:04,787 - INFO - Model query completed.\n",
      "2024-10-03 10:45:04,787 - INFO - Original paragraph generated.\n",
      "2024-10-03 10:45:04,788 - INFO - Translating paragraph to Chinese.\n",
      "2024-10-03 10:45:04,788 - INFO - Querying model with system content and user content.\n",
      "2024-10-03 10:45:08,793 - INFO - HTTP Request: POST https://ark.cn-beijing.volces.com/api/v3/chat/completions \"HTTP/1.1 200 OK\"\n",
      "2024-10-03 10:45:08,794 - INFO - Model query completed.\n",
      "2024-10-03 10:45:08,795 - INFO - Translation completed.\n"
     ]
    },
    {
     "name": "stdout",
     "output_type": "stream",
     "text": [
      "In a city, there is a strict **code** that companies must follow when they **advertise** their products. Every **advertisement** has to be approved to make sure it meets the requirements. One company tried to bypass the **code** with a tricky **advertisement**, but it was soon caught and had to correct it. This shows that following the **code** is very important. \n",
      "\n",
      " 在一个城市里，有一个严格的**准则**，公司在**宣传**他们的产品时必须遵循。每一个**广告**都必须得到批准，以确保它符合要求。一家公司试图用一个狡猾的**广告**绕过这个**准则**，但很快就被抓住了，不得不改正。这表明遵循**准则**是非常重要的。\n",
      "In a city, there is a strict code that companies must follow when they advertise their products. Every advertisement has to be approved to make sure it meets the requirements. One company tried to bypass the code with a tricky advertisement, but it was soon caught and had to correct it. This shows that following the code is very important. ['code', 'advertise', 'advertisement', 'code', 'advertisement', 'code']\n"
     ]
    },
    {
     "name": "stderr",
     "output_type": "stream",
     "text": [
      "Processing words: 2it [00:27, 14.39s/it]2024-10-03 10:45:17,513 - INFO - ArkModelCompletion initialized with API key.\n",
      "2024-10-03 10:45:17,513 - INFO - ParagraphGenerator initialized.\n",
      "2024-10-03 10:45:17,514 - INFO - Generating paragraph with target words: ['secure', 'register', 'cancel']\n",
      "2024-10-03 10:45:17,514 - INFO - Generating original paragraph.\n",
      "2024-10-03 10:45:17,515 - INFO - Querying model with system content and user content.\n"
     ]
    },
    {
     "name": "stdout",
     "output_type": "stream",
     "text": [
      "Speech synthesized for text [In a city, there is a strict code that companies must follow when they advertise their products. Every advertisement has to be approved to make sure it meets the requirements. One company tried to bypass the code with a tricky advertisement, but it was soon caught and had to correct it. This shows that following the code is very important.]\n",
      "Audio saved to D:\\Study\\AIAgent\\AIEnglishLearning\\output\\1_output_audio.wav\n",
      "在一个城市里，有一个严格的准则，公司在宣传他们的产品时必须遵循。每一个广告都必须得到批准，以确保它符合要求。一家公司试图用一个狡猾的广告绕过这个准则，但很快就被抓住了，不得不改正。这表明遵循准则是非常重要的。 ['准则', '宣传', '广告', '广告', '准则', '准则']\n",
      "index: 1\n",
      "image_prompt: 帮我生成图片：图片风格为「卡通」，比例为「1:1」，内容描述：在一个城市里，有一个严格的**准则**，公司在**宣传**他们的产品时必须遵循。每一个**广告**都必须得到批准，以确保它符合要求。一家公司试图用一个狡猾的**广告**绕过这个**准则**，但很快就被抓住了，不得不改正。这表明遵循**准则**是非常重要的。\n",
      "target_words_and_meanings: [('code', 'n. 准则，法规，密码'), ('advertise', 'v. 为...做广告'), ('advertisement', 'n. 广告')]\n",
      "clean_paragraph: In a city, there is a strict code that companies must follow when they advertise their products. Every advertisement has to be approved to make sure it meets the requirements. One company tried to bypass the code with a tricky advertisement, but it was soon caught and had to correct it. This shows that following the code is very important.\n",
      "bold_words: ['code', 'advertise', 'advertisement', 'code', 'advertisement', 'code']\n",
      "clean_translation: 在一个城市里，有一个严格的准则，公司在宣传他们的产品时必须遵循。每一个广告都必须得到批准，以确保它符合要求。一家公司试图用一个狡猾的广告绕过这个准则，但很快就被抓住了，不得不改正。这表明遵循准则是非常重要的。\n",
      "bold_word_meanings: ['准则', '宣传', '广告', '广告', '准则', '准则']\n",
      "audio_path: D:\\Study\\AIAgent\\AIEnglishLearning\\output\\1_output_audio.wav\n",
      "[('secure', 'a. 安全的，可靠的'), ('register', 'v./n.登记，注册'), ('cancel', 'vt. 取消，废除')]\n"
     ]
    },
    {
     "name": "stderr",
     "output_type": "stream",
     "text": [
      "2024-10-03 10:45:21,619 - INFO - HTTP Request: POST https://ark.cn-beijing.volces.com/api/v3/chat/completions \"HTTP/1.1 200 OK\"\n",
      "2024-10-03 10:45:21,620 - INFO - Model query completed.\n",
      "2024-10-03 10:45:21,621 - INFO - Original paragraph generated.\n",
      "2024-10-03 10:45:21,621 - INFO - Translating paragraph to Chinese.\n",
      "2024-10-03 10:45:21,622 - INFO - Querying model with system content and user content.\n",
      "2024-10-03 10:45:24,451 - INFO - HTTP Request: POST https://ark.cn-beijing.volces.com/api/v3/chat/completions \"HTTP/1.1 200 OK\"\n",
      "2024-10-03 10:45:24,452 - INFO - Model query completed.\n",
      "2024-10-03 10:45:24,453 - INFO - Translation completed.\n"
     ]
    },
    {
     "name": "stdout",
     "output_type": "stream",
     "text": [
      "Jack wanted to make his journey **secure**. So he went to the hotel to **register** first. But later he got some important news and had to **cancel** his plan. It was a pity, but he knew it was the right thing to do. \n",
      "\n",
      " 杰克想要让他的旅程**安全**。所以他先去酒店**登记**。但后来他得到了一些重要消息，不得不**取消**他的计划。这很遗憾，但他知道这是正确的做法。\n",
      "Jack wanted to make his journey secure. So he went to the hotel to register first. But later he got some important news and had to cancel his plan. It was a pity, but he knew it was the right thing to do. ['secure', 'register', 'cancel']\n"
     ]
    },
    {
     "name": "stderr",
     "output_type": "stream",
     "text": [
      "Processing words: 3it [00:40, 13.33s/it]2024-10-03 10:45:29,595 - INFO - ArkModelCompletion initialized with API key.\n",
      "2024-10-03 10:45:29,596 - INFO - ParagraphGenerator initialized.\n",
      "2024-10-03 10:45:29,596 - INFO - Generating paragraph with target words: ['comment', 'available', 'entry']\n",
      "2024-10-03 10:45:29,597 - INFO - Generating original paragraph.\n",
      "2024-10-03 10:45:29,598 - INFO - Querying model with system content and user content.\n"
     ]
    },
    {
     "name": "stdout",
     "output_type": "stream",
     "text": [
      "Speech synthesized for text [Jack wanted to make his journey secure. So he went to the hotel to register first. But later he got some important news and had to cancel his plan. It was a pity, but he knew it was the right thing to do.]\n",
      "Audio saved to D:\\Study\\AIAgent\\AIEnglishLearning\\output\\2_output_audio.wav\n",
      "杰克想要让他的旅程安全。所以他先去酒店登记。但后来他得到了一些重要消息，不得不取消他的计划。这很遗憾，但他知道这是正确的做法。 ['安全', '登记', '取消']\n",
      "index: 2\n",
      "image_prompt: 帮我生成图片：图片风格为「卡通」，比例为「1:1」，内容描述：杰克想要让他的旅程**安全**。所以他先去酒店**登记**。但后来他得到了一些重要消息，不得不**取消**他的计划。这很遗憾，但他知道这是正确的做法。\n",
      "target_words_and_meanings: [('secure', 'a. 安全的，可靠的'), ('register', 'v./n.登记，注册'), ('cancel', 'vt. 取消，废除')]\n",
      "clean_paragraph: Jack wanted to make his journey secure. So he went to the hotel to register first. But later he got some important news and had to cancel his plan. It was a pity, but he knew it was the right thing to do.\n",
      "bold_words: ['secure', 'register', 'cancel']\n",
      "clean_translation: 杰克想要让他的旅程安全。所以他先去酒店登记。但后来他得到了一些重要消息，不得不取消他的计划。这很遗憾，但他知道这是正确的做法。\n",
      "bold_word_meanings: ['安全', '登记', '取消']\n",
      "audio_path: D:\\Study\\AIAgent\\AIEnglishLearning\\output\\2_output_audio.wav\n",
      "[('comment', 'n./vt. 评论'), ('available', 'a. 现成可用的；可得到的'), ('entry', 'n. 进入，入口处；参赛的人（或物）')]\n"
     ]
    },
    {
     "name": "stderr",
     "output_type": "stream",
     "text": [
      "2024-10-03 10:45:33,274 - INFO - HTTP Request: POST https://ark.cn-beijing.volces.com/api/v3/chat/completions \"HTTP/1.1 200 OK\"\n",
      "2024-10-03 10:45:33,275 - INFO - Model query completed.\n",
      "2024-10-03 10:45:33,276 - INFO - Original paragraph generated.\n",
      "2024-10-03 10:45:33,276 - INFO - Translating paragraph to Chinese.\n",
      "2024-10-03 10:45:33,277 - INFO - Querying model with system content and user content.\n",
      "2024-10-03 10:45:37,906 - INFO - HTTP Request: POST https://ark.cn-beijing.volces.com/api/v3/chat/completions \"HTTP/1.1 200 OK\"\n",
      "2024-10-03 10:45:37,907 - INFO - Model query completed.\n",
      "2024-10-03 10:45:37,907 - INFO - Translation completed.\n"
     ]
    },
    {
     "name": "stdout",
     "output_type": "stream",
     "text": [
      "There was a competition. Many **entries** came. The judges were looking at each **entry**. One of them made a **comment** that this one is very good. And all the materials needed for the competition were **available**. It was a great event. \n",
      "\n",
      " 有一场竞赛。许多**参赛作品**来了。评委们正在查看每一个**参赛作品**。其中一位评委发表了一个**评论**说这一个非常好。而且竞赛所需的所有材料都是**可获得的**。这是一次很棒的活动。\n",
      "There was a competition. Many entries came. The judges were looking at each entry. One of them made a comment that this one is very good. And all the materials needed for the competition were available. It was a great event. ['entries', 'entry', 'comment', 'available']\n"
     ]
    },
    {
     "name": "stderr",
     "output_type": "stream",
     "text": [
      "Processing words: 4it [00:55, 14.36s/it]2024-10-03 10:45:45,512 - INFO - ArkModelCompletion initialized with API key.\n",
      "2024-10-03 10:45:45,512 - INFO - ParagraphGenerator initialized.\n",
      "2024-10-03 10:45:45,513 - INFO - Generating paragraph with target words: ['resume', 'sponsor', 'vote']\n",
      "2024-10-03 10:45:45,514 - INFO - Generating original paragraph.\n",
      "2024-10-03 10:45:45,514 - INFO - Querying model with system content and user content.\n"
     ]
    },
    {
     "name": "stdout",
     "output_type": "stream",
     "text": [
      "Speech synthesized for text [There was a competition. Many entries came. The judges were looking at each entry. One of them made a comment that this one is very good. And all the materials needed for the competition were available. It was a great event.]\n",
      "Audio saved to D:\\Study\\AIAgent\\AIEnglishLearning\\output\\3_output_audio.wav\n",
      "有一场竞赛。许多参赛作品来了。评委们正在查看每一个参赛作品。其中一位评委发表了一个评论说这一个非常好。而且竞赛所需的所有材料都是可获得的。这是一次很棒的活动。 ['参赛作品', '参赛作品', '评论', '可获得的']\n",
      "index: 3\n",
      "image_prompt: 帮我生成图片：图片风格为「卡通」，比例为「1:1」，内容描述：有一场竞赛。许多**参赛作品**来了。评委们正在查看每一个**参赛作品**。其中一位评委发表了一个**评论**说这一个非常好。而且竞赛所需的所有材料都是**可获得的**。这是一次很棒的活动。\n",
      "target_words_and_meanings: [('comment', 'n./vt. 评论'), ('available', 'a. 现成可用的；可得到的'), ('entry', 'n. 进入，入口处；参赛的人（或物）')]\n",
      "clean_paragraph: There was a competition. Many entries came. The judges were looking at each entry. One of them made a comment that this one is very good. And all the materials needed for the competition were available. It was a great event.\n",
      "bold_words: ['entries', 'entry', 'comment', 'available']\n",
      "clean_translation: 有一场竞赛。许多参赛作品来了。评委们正在查看每一个参赛作品。其中一位评委发表了一个评论说这一个非常好。而且竞赛所需的所有材料都是可获得的。这是一次很棒的活动。\n",
      "bold_word_meanings: ['参赛作品', '参赛作品', '评论', '可获得的']\n",
      "audio_path: D:\\Study\\AIAgent\\AIEnglishLearning\\output\\3_output_audio.wav\n",
      "[('resume', 'v. （中断后）重新开始'), ('sponsor', 'n. 发起者，主办者 vt. 发起，主办，资助'), ('vote', 'v. 选举 n. 选票')]\n"
     ]
    },
    {
     "name": "stderr",
     "output_type": "stream",
     "text": [
      "2024-10-03 10:45:49,000 - INFO - HTTP Request: POST https://ark.cn-beijing.volces.com/api/v3/chat/completions \"HTTP/1.1 200 OK\"\n",
      "2024-10-03 10:45:49,001 - INFO - Model query completed.\n",
      "2024-10-03 10:45:49,001 - INFO - Original paragraph generated.\n",
      "2024-10-03 10:45:49,002 - INFO - Translating paragraph to Chinese.\n",
      "2024-10-03 10:45:49,003 - INFO - Querying model with system content and user content.\n",
      "2024-10-03 10:45:51,490 - INFO - HTTP Request: POST https://ark.cn-beijing.volces.com/api/v3/chat/completions \"HTTP/1.1 200 OK\"\n",
      "2024-10-03 10:45:51,490 - INFO - Model query completed.\n",
      "2024-10-03 10:45:51,491 - INFO - Translation completed.\n"
     ]
    },
    {
     "name": "stdout",
     "output_type": "stream",
     "text": [
      "After a short break, the game **resumed**. The **sponsor** of this game was very excited to see the intense competition. At the end, everyone **voted** for the best player. It was a great event. \n",
      "\n",
      " 短暂休息后，比赛**继续**。这场比赛的**赞助商**看到激烈的竞争非常兴奋。最后，每个人都**投票**选出了最佳球员。这是一次很棒的活动。\n",
      "After a short break, the game resumed. The sponsor of this game was very excited to see the intense competition. At the end, everyone voted for the best player. It was a great event. ['resumed', 'sponsor', 'voted']\n"
     ]
    },
    {
     "name": "stderr",
     "output_type": "stream",
     "text": [
      "Processing words: 5it [01:16, 16.68s/it]2024-10-03 10:46:06,318 - INFO - ArkModelCompletion initialized with API key.\n",
      "2024-10-03 10:46:06,318 - INFO - ParagraphGenerator initialized.\n",
      "2024-10-03 10:46:06,319 - INFO - Generating paragraph with target words: ['discount', 'fax', 'applicable']\n",
      "2024-10-03 10:46:06,320 - INFO - Generating original paragraph.\n",
      "2024-10-03 10:46:06,321 - INFO - Querying model with system content and user content.\n"
     ]
    },
    {
     "name": "stdout",
     "output_type": "stream",
     "text": [
      "Speech synthesized for text [After a short break, the game resumed. The sponsor of this game was very excited to see the intense competition. At the end, everyone voted for the best player. It was a great event.]\n",
      "Audio saved to D:\\Study\\AIAgent\\AIEnglishLearning\\output\\4_output_audio.wav\n",
      "短暂休息后，比赛继续。这场比赛的赞助商看到激烈的竞争非常兴奋。最后，每个人都投票选出了最佳球员。这是一次很棒的活动。 ['继续', '赞助商', '投票']\n",
      "index: 4\n",
      "image_prompt: 帮我生成图片：图片风格为「卡通」，比例为「1:1」，内容描述：短暂休息后，比赛**继续**。这场比赛的**赞助商**看到激烈的竞争非常兴奋。最后，每个人都**投票**选出了最佳球员。这是一次很棒的活动。\n",
      "target_words_and_meanings: [('resume', 'v. （中断后）重新开始'), ('sponsor', 'n. 发起者，主办者 vt. 发起，主办，资助'), ('vote', 'v. 选举 n. 选票')]\n",
      "clean_paragraph: After a short break, the game resumed. The sponsor of this game was very excited to see the intense competition. At the end, everyone voted for the best player. It was a great event.\n",
      "bold_words: ['resumed', 'sponsor', 'voted']\n",
      "clean_translation: 短暂休息后，比赛继续。这场比赛的赞助商看到激烈的竞争非常兴奋。最后，每个人都投票选出了最佳球员。这是一次很棒的活动。\n",
      "bold_word_meanings: ['继续', '赞助商', '投票']\n",
      "audio_path: D:\\Study\\AIAgent\\AIEnglishLearning\\output\\4_output_audio.wav\n",
      "[('discount', 'n. （价格）折扣'), ('fax', 'n./vt. 传真'), ('applicable', 'a. 可应用的，适当的')]\n"
     ]
    },
    {
     "name": "stderr",
     "output_type": "stream",
     "text": [
      "2024-10-03 10:46:08,975 - INFO - HTTP Request: POST https://ark.cn-beijing.volces.com/api/v3/chat/completions \"HTTP/1.1 200 OK\"\n",
      "2024-10-03 10:46:08,976 - INFO - Model query completed.\n",
      "2024-10-03 10:46:08,977 - INFO - Original paragraph generated.\n",
      "2024-10-03 10:46:08,978 - INFO - Translating paragraph to Chinese.\n",
      "2024-10-03 10:46:08,979 - INFO - Querying model with system content and user content.\n",
      "2024-10-03 10:46:13,412 - INFO - HTTP Request: POST https://ark.cn-beijing.volces.com/api/v3/chat/completions \"HTTP/1.1 200 OK\"\n",
      "2024-10-03 10:46:13,413 - INFO - Model query completed.\n",
      "2024-10-03 10:46:13,413 - INFO - Translation completed.\n"
     ]
    },
    {
     "name": "stdout",
     "output_type": "stream",
     "text": [
      "The store announced that there was a big **discount**. So, Mary wanted to buy some clothes. She called the store and asked them to **fax** the details of the **applicable** discounts to her. She was very happy when she saw the fax. \n",
      "\n",
      " 这家商店宣布有一个很大的**折扣**。所以，玛丽想买些衣服。她打电话给商店并让他们把**适用**的折扣细节**传真**给她。当她看到传真时她非常高兴。\n",
      "The store announced that there was a big discount. So, Mary wanted to buy some clothes. She called the store and asked them to fax the details of the applicable discounts to her. She was very happy when she saw the fax. ['discount', 'fax', 'applicable']\n"
     ]
    },
    {
     "name": "stderr",
     "output_type": "stream",
     "text": [
      "Processing words: 6it [01:33, 16.73s/it]2024-10-03 10:46:23,141 - INFO - ArkModelCompletion initialized with API key.\n",
      "2024-10-03 10:46:23,142 - INFO - ParagraphGenerator initialized.\n",
      "2024-10-03 10:46:23,143 - INFO - Generating paragraph with target words: ['guarantee', 'deposit', 'notify']\n",
      "2024-10-03 10:46:23,143 - INFO - Generating original paragraph.\n",
      "2024-10-03 10:46:23,144 - INFO - Querying model with system content and user content.\n"
     ]
    },
    {
     "name": "stdout",
     "output_type": "stream",
     "text": [
      "Speech synthesized for text [The store announced that there was a big discount. So, Mary wanted to buy some clothes. She called the store and asked them to fax the details of the applicable discounts to her. She was very happy when she saw the fax.]\n",
      "Audio saved to D:\\Study\\AIAgent\\AIEnglishLearning\\output\\5_output_audio.wav\n",
      "这家商店宣布有一个很大的折扣。所以，玛丽想买些衣服。她打电话给商店并让他们把适用的折扣细节传真给她。当她看到传真时她非常高兴。 ['折扣', '适用', '传真']\n",
      "index: 5\n",
      "image_prompt: 帮我生成图片：图片风格为「卡通」，比例为「1:1」，内容描述：这家商店宣布有一个很大的**折扣**。所以，玛丽想买些衣服。她打电话给商店并让他们把**适用**的折扣细节**传真**给她。当她看到传真时她非常高兴。\n",
      "target_words_and_meanings: [('discount', 'n. （价格）折扣'), ('fax', 'n./vt. 传真'), ('applicable', 'a. 可应用的，适当的')]\n",
      "clean_paragraph: The store announced that there was a big discount. So, Mary wanted to buy some clothes. She called the store and asked them to fax the details of the applicable discounts to her. She was very happy when she saw the fax.\n",
      "bold_words: ['discount', 'fax', 'applicable']\n",
      "clean_translation: 这家商店宣布有一个很大的折扣。所以，玛丽想买些衣服。她打电话给商店并让他们把适用的折扣细节传真给她。当她看到传真时她非常高兴。\n",
      "bold_word_meanings: ['折扣', '适用', '传真']\n",
      "audio_path: D:\\Study\\AIAgent\\AIEnglishLearning\\output\\5_output_audio.wav\n",
      "[('guarantee', 'vt./n. 保证'), ('deposit', 'n. 存款，定金 v.存放，储蓄'), ('notify', 'vt. 通知，告知')]\n"
     ]
    },
    {
     "name": "stderr",
     "output_type": "stream",
     "text": [
      "2024-10-03 10:46:26,488 - INFO - HTTP Request: POST https://ark.cn-beijing.volces.com/api/v3/chat/completions \"HTTP/1.1 200 OK\"\n",
      "2024-10-03 10:46:26,489 - INFO - Model query completed.\n",
      "2024-10-03 10:46:26,489 - INFO - Original paragraph generated.\n",
      "2024-10-03 10:46:26,491 - INFO - Translating paragraph to Chinese.\n",
      "2024-10-03 10:46:26,491 - INFO - Querying model with system content and user content.\n",
      "2024-10-03 10:46:29,665 - INFO - HTTP Request: POST https://ark.cn-beijing.volces.com/api/v3/chat/completions \"HTTP/1.1 200 OK\"\n",
      "2024-10-03 10:46:29,666 - INFO - Model query completed.\n",
      "2024-10-03 10:46:29,666 - INFO - Translation completed.\n"
     ]
    },
    {
     "name": "stdout",
     "output_type": "stream",
     "text": [
      "John wanted to rent a house. He made a **deposit** to secure it. The landlord **guaranteed** that the house would be in good condition. But when there was a small problem, the landlord didn't fix it. So John decided to **notify** the landlord. He expected the landlord to keep his promise. \n",
      "\n",
      " 约翰想要租一间房子。他付了一笔**押金**来确保租到。房东**保证**房子会处于良好状态。但当出现一个小问题时，房东没有修理它。所以约翰决定**通知**房东。他期望房东遵守他的承诺。\n",
      "John wanted to rent a house. He made a deposit to secure it. The landlord guaranteed that the house would be in good condition. But when there was a small problem, the landlord didn't fix it. So John decided to notify the landlord. He expected the landlord to keep his promise. ['deposit', 'guaranteed', 'notify']\n"
     ]
    },
    {
     "name": "stderr",
     "output_type": "stream",
     "text": [
      "Processing words: 7it [01:44, 14.98s/it]2024-10-03 10:46:34,501 - INFO - ArkModelCompletion initialized with API key.\n",
      "2024-10-03 10:46:34,502 - INFO - ParagraphGenerator initialized.\n",
      "2024-10-03 10:46:34,503 - INFO - Generating paragraph with target words: ['index', 'quotation', 'merchant']\n",
      "2024-10-03 10:46:34,503 - INFO - Generating original paragraph.\n",
      "2024-10-03 10:46:34,504 - INFO - Querying model with system content and user content.\n"
     ]
    },
    {
     "name": "stdout",
     "output_type": "stream",
     "text": [
      "Speech synthesized for text [John wanted to rent a house. He made a deposit to secure it. The landlord guaranteed that the house would be in good condition. But when there was a small problem, the landlord didn't fix it. So John decided to notify the landlord. He expected the landlord to keep his promise.]\n",
      "Audio saved to D:\\Study\\AIAgent\\AIEnglishLearning\\output\\6_output_audio.wav\n",
      "约翰想要租一间房子。他付了一笔押金来确保租到。房东保证房子会处于良好状态。但当出现一个小问题时，房东没有修理它。所以约翰决定通知房东。他期望房东遵守他的承诺。 ['押金', '保证', '通知']\n",
      "index: 6\n",
      "image_prompt: 帮我生成图片：图片风格为「卡通」，比例为「1:1」，内容描述：约翰想要租一间房子。他付了一笔**押金**来确保租到。房东**保证**房子会处于良好状态。但当出现一个小问题时，房东没有修理它。所以约翰决定**通知**房东。他期望房东遵守他的承诺。\n",
      "target_words_and_meanings: [('guarantee', 'vt./n. 保证'), ('deposit', 'n. 存款，定金 v.存放，储蓄'), ('notify', 'vt. 通知，告知')]\n",
      "clean_paragraph: John wanted to rent a house. He made a deposit to secure it. The landlord guaranteed that the house would be in good condition. But when there was a small problem, the landlord didn't fix it. So John decided to notify the landlord. He expected the landlord to keep his promise.\n",
      "bold_words: ['deposit', 'guaranteed', 'notify']\n",
      "clean_translation: 约翰想要租一间房子。他付了一笔押金来确保租到。房东保证房子会处于良好状态。但当出现一个小问题时，房东没有修理它。所以约翰决定通知房东。他期望房东遵守他的承诺。\n",
      "bold_word_meanings: ['押金', '保证', '通知']\n",
      "audio_path: D:\\Study\\AIAgent\\AIEnglishLearning\\output\\6_output_audio.wav\n",
      "[('index', 'n. 索引，标志'), ('quotation', 'n. 引文，引语'), ('merchant', 'n. 商人')]\n"
     ]
    },
    {
     "name": "stderr",
     "output_type": "stream",
     "text": [
      "2024-10-03 10:46:37,763 - INFO - HTTP Request: POST https://ark.cn-beijing.volces.com/api/v3/chat/completions \"HTTP/1.1 200 OK\"\n",
      "2024-10-03 10:46:37,763 - INFO - Model query completed.\n",
      "2024-10-03 10:46:37,764 - INFO - Original paragraph generated.\n",
      "2024-10-03 10:46:37,765 - INFO - Translating paragraph to Chinese.\n",
      "2024-10-03 10:46:37,765 - INFO - Querying model with system content and user content.\n",
      "2024-10-03 10:46:40,433 - INFO - HTTP Request: POST https://ark.cn-beijing.volces.com/api/v3/chat/completions \"HTTP/1.1 200 OK\"\n",
      "2024-10-03 10:46:40,435 - INFO - Model query completed.\n",
      "2024-10-03 10:46:40,435 - INFO - Translation completed.\n"
     ]
    },
    {
     "name": "stdout",
     "output_type": "stream",
     "text": [
      "In the busy market, the **merchant** was shouting out the **quotations** of his goods. People were looking through the items, using the **index** at the side of the stall to find what they needed quickly. It was a lively scene. \n",
      "\n",
      " 在繁忙的市场里，那位**商人**大声喊着他商品的**报价**。人们在查看这些物品，利用摊位边上的**索引**来快速找到他们需要的东西。那是一个热闹的场景。\n",
      "In the busy market, the merchant was shouting out the quotations of his goods. People were looking through the items, using the index at the side of the stall to find what they needed quickly. It was a lively scene. ['merchant', 'quotations', 'index']\n"
     ]
    },
    {
     "name": "stderr",
     "output_type": "stream",
     "text": [
      "Processing words: 8it [01:54, 13.25s/it]2024-10-03 10:46:44,070 - INFO - ArkModelCompletion initialized with API key.\n",
      "2024-10-03 10:46:44,071 - INFO - ParagraphGenerator initialized.\n",
      "2024-10-03 10:46:44,071 - INFO - Generating paragraph with target words: ['passport', 'submit', 'title']\n",
      "2024-10-03 10:46:44,073 - INFO - Generating original paragraph.\n",
      "2024-10-03 10:46:44,073 - INFO - Querying model with system content and user content.\n"
     ]
    },
    {
     "name": "stdout",
     "output_type": "stream",
     "text": [
      "Speech synthesized for text [In the busy market, the merchant was shouting out the quotations of his goods. People were looking through the items, using the index at the side of the stall to find what they needed quickly. It was a lively scene.]\n",
      "Audio saved to D:\\Study\\AIAgent\\AIEnglishLearning\\output\\7_output_audio.wav\n",
      "在繁忙的市场里，那位商人大声喊着他商品的报价。人们在查看这些物品，利用摊位边上的索引来快速找到他们需要的东西。那是一个热闹的场景。 ['商人', '报价', '索引']\n",
      "index: 7\n",
      "image_prompt: 帮我生成图片：图片风格为「卡通」，比例为「1:1」，内容描述：在繁忙的市场里，那位**商人**大声喊着他商品的**报价**。人们在查看这些物品，利用摊位边上的**索引**来快速找到他们需要的东西。那是一个热闹的场景。\n",
      "target_words_and_meanings: [('index', 'n. 索引，标志'), ('quotation', 'n. 引文，引语'), ('merchant', 'n. 商人')]\n",
      "clean_paragraph: In the busy market, the merchant was shouting out the quotations of his goods. People were looking through the items, using the index at the side of the stall to find what they needed quickly. It was a lively scene.\n",
      "bold_words: ['merchant', 'quotations', 'index']\n",
      "clean_translation: 在繁忙的市场里，那位商人大声喊着他商品的报价。人们在查看这些物品，利用摊位边上的索引来快速找到他们需要的东西。那是一个热闹的场景。\n",
      "bold_word_meanings: ['商人', '报价', '索引']\n",
      "audio_path: D:\\Study\\AIAgent\\AIEnglishLearning\\output\\7_output_audio.wav\n",
      "[('passport', 'n. 护照'), ('submit', 'vi.(to)屈服，听从'), ('title', 'n. 题目，标题')]\n"
     ]
    },
    {
     "name": "stderr",
     "output_type": "stream",
     "text": [
      "2024-10-03 10:46:49,070 - INFO - HTTP Request: POST https://ark.cn-beijing.volces.com/api/v3/chat/completions \"HTTP/1.1 200 OK\"\n",
      "2024-10-03 10:46:49,071 - INFO - Model query completed.\n",
      "2024-10-03 10:46:49,071 - INFO - Original paragraph generated.\n",
      "2024-10-03 10:46:49,072 - INFO - Translating paragraph to Chinese.\n",
      "2024-10-03 10:46:49,072 - INFO - Querying model with system content and user content.\n",
      "2024-10-03 10:46:51,955 - INFO - HTTP Request: POST https://ark.cn-beijing.volces.com/api/v3/chat/completions \"HTTP/1.1 200 OK\"\n",
      "2024-10-03 10:46:51,961 - INFO - Model query completed.\n",
      "2024-10-03 10:46:51,962 - INFO - Translation completed.\n"
     ]
    },
    {
     "name": "stdout",
     "output_type": "stream",
     "text": [
      "John needed to **submit** his documents. One of the important things was his **passport**. He carefully checked everything and made sure the forms were filled out correctly. The **title** of the document he was submitting was very important too. He double-checked it to avoid any mistakes. \n",
      "\n",
      " 约翰需要**提交**他的文件。其中一件重要的东西是他的**护照**。他仔细检查了一切，确保表格填写正确。他正在提交的文件的**标题**也非常重要。他再次检查以避免任何错误。\n",
      "John needed to submit his documents. One of the important things was his passport. He carefully checked everything and made sure the forms were filled out correctly. The title of the document he was submitting was very important too. He double-checked it to avoid any mistakes. ['submit', 'passport', 'title']\n"
     ]
    },
    {
     "name": "stderr",
     "output_type": "stream",
     "text": [
      "Processing words: 9it [02:16, 15.13s/it]"
     ]
    },
    {
     "name": "stdout",
     "output_type": "stream",
     "text": [
      "Speech synthesized for text [John needed to submit his documents. One of the important things was his passport. He carefully checked everything and made sure the forms were filled out correctly. The title of the document he was submitting was very important too. He double-checked it to avoid any mistakes.]\n",
      "Audio saved to D:\\Study\\AIAgent\\AIEnglishLearning\\output\\8_output_audio.wav\n",
      "约翰需要提交他的文件。其中一件重要的东西是他的护照。他仔细检查了一切，确保表格填写正确。他正在提交的文件的标题也非常重要。他再次检查以避免任何错误。 ['提交', '护照', '标题']\n",
      "index: 8\n",
      "image_prompt: 帮我生成图片：图片风格为「卡通」，比例为「1:1」，内容描述：约翰需要**提交**他的文件。其中一件重要的东西是他的**护照**。他仔细检查了一切，确保表格填写正确。他正在提交的文件的**标题**也非常重要。他再次检查以避免任何错误。\n",
      "target_words_and_meanings: [('passport', 'n. 护照'), ('submit', 'vi.(to)屈服，听从'), ('title', 'n. 题目，标题')]\n",
      "clean_paragraph: John needed to submit his documents. One of the important things was his passport. He carefully checked everything and made sure the forms were filled out correctly. The title of the document he was submitting was very important too. He double-checked it to avoid any mistakes.\n",
      "bold_words: ['submit', 'passport', 'title']\n",
      "clean_translation: 约翰需要提交他的文件。其中一件重要的东西是他的护照。他仔细检查了一切，确保表格填写正确。他正在提交的文件的标题也非常重要。他再次检查以避免任何错误。\n",
      "bold_word_meanings: ['提交', '护照', '标题']\n",
      "audio_path: D:\\Study\\AIAgent\\AIEnglishLearning\\output\\8_output_audio.wav\n"
     ]
    },
    {
     "name": "stderr",
     "output_type": "stream",
     "text": [
      "\n"
     ]
    }
   ],
   "source": [
    "\n",
    "video_info_collector = VideoInfoCollector(f\"D:\\Study\\AIAgent\\AIEnglishLearning\\output\\info_for_video_generation_cluster_{cluster_label}.csv\")\n",
    "\n",
    "for output_index, three_elements in tqdm(enumerate(get_three_elements(word_meaning_tuples)), desc=\"Processing words\"):\n",
    "    gen_video_info_once(three_elements, video_info_collector, output_index)\n"
   ]
  }
 ],
 "metadata": {
  "kernelspec": {
   "display_name": "Python 3",
   "language": "python",
   "name": "python3"
  },
  "language_info": {
   "codemirror_mode": {
    "name": "ipython",
    "version": 3
   },
   "file_extension": ".py",
   "mimetype": "text/x-python",
   "name": "python",
   "nbconvert_exporter": "python",
   "pygments_lexer": "ipython3",
   "version": "3.10.6"
  }
 },
 "nbformat": 4,
 "nbformat_minor": 2
}
