{
 "cells": [
  {
   "cell_type": "code",
   "execution_count": 2,
   "metadata": {},
   "outputs": [
    {
     "name": "stdout",
     "output_type": "stream",
     "text": [
      "Moviepy - Building video D:\\Study\\AIAgent\\AIEnglishLearning\\output\\1_video.mp4.\n",
      "MoviePy - Writing audio in 1_videoTEMP_MPY_wvf_snd.mp3\n"
     ]
    },
    {
     "name": "stderr",
     "output_type": "stream",
     "text": [
      "                                                                     \r"
     ]
    },
    {
     "name": "stdout",
     "output_type": "stream",
     "text": [
      "MoviePy - Done.\n",
      "Moviepy - Writing video D:\\Study\\AIAgent\\AIEnglishLearning\\output\\1_video.mp4\n",
      "\n"
     ]
    },
    {
     "name": "stderr",
     "output_type": "stream",
     "text": [
      "                                                                \r"
     ]
    },
    {
     "name": "stdout",
     "output_type": "stream",
     "text": [
      "Moviepy - Done !\n",
      "Moviepy - video ready D:\\Study\\AIAgent\\AIEnglishLearning\\output\\1_video.mp4\n",
      "D:\\Study\\AIAgent\\AIEnglishLearning\\output\\1_video.mp4\n"
     ]
    }
   ],
   "source": [
    "from core.video_info import VideoInfoReader\n",
    "from core.key_frame_creator import KeyFrameCreator\n",
    "from core.video_creator import VideoCreator\n",
    "\n",
    "video_info_reader = VideoInfoReader('D:\\Study\\AIAgent\\AIEnglishLearning\\output\\info_for_video_generation_cluster_0.csv')\n",
    "# Read the info_for_video_generation.csv\n",
    "video_info_csv_data = video_info_reader.read()\n",
    "\n",
    "# Print the data for verification\n",
    "# for row in csv_data:\n",
    "#     print(row['bold_words'][0])\n",
    "#     print(row['bold_word_meanings'][0])\n",
    "#     print(row['target_words_and_meanings'][0][1])\n",
    "\n",
    "# Generate image manually, and named with corresponding index\n",
    "\n",
    "# get the first element of the csv_data\n",
    "for single_video_info_for_key_frame in video_info_csv_data:\n",
    "    index = single_video_info_for_key_frame['index']\n",
    "    # if index !='1':\n",
    "    #     continue\n",
    "    single_video_info_for_key_frame['output_path'] = f\"D:\\\\Study\\\\AIAgent\\\\AIEnglishLearning\\\\output\\\\{index}_video.mp4\"\n",
    "    single_video_info_for_key_frame['bgm_path'] = 'D:\\\\Study\\\\AIAgent\\\\AIEnglishLearning\\\\static_materials\\\\scott-buckley-reverie(chosic.com).mp3'\n",
    "    # print(single_video_info_for_key_frame)\n",
    "\n",
    "    key_frame_creator = KeyFrameCreator(single_video_info_for_key_frame)\n",
    "    single_video_info_for_video = key_frame_creator.generate_all_key_frames()\n",
    "    # print(single_video_info_for_video)\n",
    "\n",
    "    video_creator = VideoCreator(single_video_info_for_video)\n",
    "    video_path = video_creator.create_video()\n",
    "    print(video_path)"
   ]
  }
 ],
 "metadata": {
  "kernelspec": {
   "display_name": "Python 3",
   "language": "python",
   "name": "python3"
  },
  "language_info": {
   "codemirror_mode": {
    "name": "ipython",
    "version": 3
   },
   "file_extension": ".py",
   "mimetype": "text/x-python",
   "name": "python",
   "nbconvert_exporter": "python",
   "pygments_lexer": "ipython3",
   "version": "3.10.6"
  }
 },
 "nbformat": 4,
 "nbformat_minor": 2
}
