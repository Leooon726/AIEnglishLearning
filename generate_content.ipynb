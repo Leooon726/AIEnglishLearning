{
 "cells": [
  {
   "cell_type": "code",
   "execution_count": 1,
   "metadata": {},
   "outputs": [
    {
     "name": "stdout",
     "output_type": "stream",
     "text": [
      "Cluster Label: 0\n",
      "[('catalog', 'n. 目录（册） v. 编目'), ('calendar', 'n. 日历，月历'), ('valid', 'a. 有效的，有根据的；正当的'), ('code', 'n. 准则，法规，密码'), ('advertise', 'v. 为...做广告'), ('advertisement', 'n. 广告'), ('secure', 'a. 安全的，可靠的'), ('register', 'v./n.登记，注册'), ('cancel', 'vt. 取消，废除'), ('comment', 'n./vt. 评论'), ('available', 'a. 现成可用的；可得到的'), ('entry', 'n. 进入，入口处；参赛的人（或物）'), ('resume', 'v. （中断后）重新开始'), ('sponsor', 'n. 发起者，主办者 vt. 发起，主办，资助'), ('vote', 'v. 选举 n. 选票'), ('discount', 'n. （价格）折扣'), ('fax', 'n./vt. 传真'), ('applicable', 'a. 可应用的，适当的'), ('guarantee', 'vt./n. 保证'), ('deposit', 'n. 存款，定金 v.存放，储蓄'), ('notify', 'vt. 通知，告知'), ('index', 'n. 索引，标志'), ('quotation', 'n. 引文，引语'), ('merchant', 'n. 商人'), ('passport', 'n. 护照'), ('submit', 'vi.(to)屈服，听从'), ('title', 'n. 题目，标题')]\n"
     ]
    }
   ],
   "source": [
    "from core.visualize_cluster import ClusterReader\n",
    "\n",
    "cluster_reader = ClusterReader('D:\\Study\\AIAgent\\AIEnglishLearning\\output\\CET4_700_clustered_word_list.csv')\n",
    "\n",
    "iter_cluster = iter(cluster_reader)\n",
    "next(iter_cluster)\n",
    "cluster_label, group = next(iter_cluster)\n",
    "print(f\"Cluster Label: {cluster_label}\")\n",
    "word_meaning_tuples = list(zip(group['word'], group['meaning']))\n",
    "print(word_meaning_tuples)\n",
    "\n"
   ]
  },
  {
   "cell_type": "code",
   "execution_count": 2,
   "metadata": {},
   "outputs": [
    {
     "name": "stderr",
     "output_type": "stream",
     "text": [
      "2024-10-02 09:40:51,306 - INFO - ArkModelCompletion initialized with API key.\n",
      "2024-10-02 09:40:51,307 - INFO - ParagraphGenerator initialized.\n",
      "2024-10-02 09:40:51,308 - INFO - Generating paragraph with target words: ['catalog', 'calendar', 'valid']\n",
      "2024-10-02 09:40:51,308 - INFO - Generating original paragraph.\n",
      "2024-10-02 09:40:51,309 - INFO - Querying model with system content and user content.\n"
     ]
    },
    {
     "name": "stdout",
     "output_type": "stream",
     "text": [
      "[('catalog', 'n. 目录（册） v. 编目'), ('calendar', 'n. 日历，月历'), ('valid', 'a. 有效的，有根据的；正当的')]\n"
     ]
    },
    {
     "name": "stderr",
     "output_type": "stream",
     "text": [
      "2024-10-02 09:40:55,351 - INFO - HTTP Request: POST https://ark.cn-beijing.volces.com/api/v3/chat/completions \"HTTP/1.1 200 OK\"\n",
      "2024-10-02 09:40:55,353 - INFO - Model query completed.\n",
      "2024-10-02 09:40:55,353 - INFO - Original paragraph generated.\n",
      "2024-10-02 09:40:55,354 - INFO - Reflecting on the original paragraph.\n",
      "2024-10-02 09:40:55,355 - INFO - Querying model with system content and user content.\n",
      "2024-10-02 09:41:05,562 - INFO - HTTP Request: POST https://ark.cn-beijing.volces.com/api/v3/chat/completions \"HTTP/1.1 200 OK\"\n",
      "2024-10-02 09:41:05,563 - INFO - Model query completed.\n",
      "2024-10-02 09:41:05,563 - INFO - Reflection completed: [反思]：这段文本没有不合乎逻辑或冗余的部分。\n",
      "\n",
      "\n",
      "2024-10-02 09:41:05,564 - INFO - Translating paragraph to Chinese.\n",
      "2024-10-02 09:41:05,565 - INFO - Querying model with system content and user content.\n",
      "2024-10-02 09:41:09,513 - INFO - HTTP Request: POST https://ark.cn-beijing.volces.com/api/v3/chat/completions \"HTTP/1.1 200 OK\"\n",
      "2024-10-02 09:41:09,513 - INFO - Model query completed.\n",
      "2024-10-02 09:41:09,514 - INFO - Translation completed.\n"
     ]
    },
    {
     "name": "stdout",
     "output_type": "stream",
     "text": [
      "Sara checked the **catalog** to see if the book she wanted was available. Then she looked at the **calendar** to find a suitable day to go to the library. She made sure the library's opening hours were **valid** so that she wouldn't waste her time. \n",
      "\n",
      " 萨拉查看了**目录**，看看她想要的书是否有货。然后她看了看**日历**，找一个合适的日子去图书馆。她确保图书馆的开放时间是**有效的**，这样她就不会浪费自己的时间。\n"
     ]
    }
   ],
   "source": [
    "from core.sentence_query import ParagraphGenerator\n",
    "from dotenv import load_dotenv\n",
    "load_dotenv()\n",
    "\n",
    "target_words_and_meanings = word_meaning_tuples[:3]\n",
    "print(target_words_and_meanings)\n",
    "# generate sentence and translation and target words\n",
    "paragraph_generator = ParagraphGenerator(use_reflection=False)\n",
    "target_words_and_meanings = [('catalog', 'n. 目录（册） v. 编目'), ('calendar', 'n. 日历，月历'), ('valid', 'a. 有效的，有根据的；正当的')]\n",
    "paragraph, translation = paragraph_generator.generate(target_words_and_meanings)\n",
    "print(paragraph,'\\n\\n', translation)\n"
   ]
  },
  {
   "cell_type": "code",
   "execution_count": 10,
   "metadata": {},
   "outputs": [],
   "source": [
    "from core.text_to_image_prompt import TextToImagePrompt\n",
    "text_to_image_prompt = TextToImagePrompt()\n",
    "image_prompt = text_to_image_prompt.generate_prompt(translation)"
   ]
  },
  {
   "cell_type": "code",
   "execution_count": 4,
   "metadata": {},
   "outputs": [
    {
     "name": "stdout",
     "output_type": "stream",
     "text": [
      "Sara checked the catalog to see if the book she wanted was available. Then she looked at the calendar to find a suitable day to go to the library. She made sure the library's opening hours were valid so that she wouldn't waste her time. ['catalog', 'calendar', 'valid']\n"
     ]
    }
   ],
   "source": [
    "from core import utils\n",
    "clean_paragraph, bold_words = utils.get_clean_text_and_bold_words(paragraph)\n",
    "print(clean_paragraph, bold_words)"
   ]
  },
  {
   "cell_type": "code",
   "execution_count": 7,
   "metadata": {},
   "outputs": [
    {
     "name": "stdout",
     "output_type": "stream",
     "text": [
      "Speech synthesized for text [Sara checked the catalog to see if the book she wanted was available. Then she looked at the calendar to find a suitable day to go to the library. She made sure the library's opening hours were valid so that she wouldn't waste her time.]\n",
      "Audio saved to D:\\Study\\AIAgent\\AIEnglishLearning\\output\\output_audio.wav\n"
     ]
    }
   ],
   "source": [
    "from core.text_to_speech import TextToSpeech\n",
    "tts = TextToSpeech()\n",
    "output_audio_path = \"D:\\Study\\AIAgent\\AIEnglishLearning\\output\\output_audio.wav\"\n",
    "tts.synthesize_speech(clean_paragraph, output_audio_path)"
   ]
  },
  {
   "cell_type": "code",
   "execution_count": 6,
   "metadata": {},
   "outputs": [
    {
     "name": "stdout",
     "output_type": "stream",
     "text": [
      "萨拉查看了目录，看看她想要的书是否有货。然后她看了看日历，找一个合适的日子去图书馆。她确保图书馆的开放时间是有效的，这样她就不会浪费自己的时间。 ['目录', '日历', '有效的']\n"
     ]
    }
   ],
   "source": [
    "import core.utils as utils\n",
    "clean_translation, bold_word_meanings = utils.get_clean_text_and_bold_words(translation)\n",
    "print(clean_translation, bold_word_meanings)\n"
   ]
  },
  {
   "cell_type": "code",
   "execution_count": 45,
   "metadata": {},
   "outputs": [
    {
     "name": "stdout",
     "output_type": "stream",
     "text": [
      "index: 1\n",
      "image_prompt: 帮我生成图片：图片风格为「卡通」，比例为「1:1」，内容描述：萨拉查看了**目录**，看看她想要的书是否有货。然后她看了看**日历**，找一个合适的日子去图书馆。她确保图书馆的开放时间是**有效的**，这样她就不会浪费自己的时间。\n",
      "target_words_and_meanings: [('catalog', 'n. 目录（册） v. 编目'), ('calendar', 'n. 日历，月历'), ('valid', 'a. 有效的，有根据的；正当的')]\n",
      "clean_paragraph: Sara checked the catalog to see if the book she wanted was available. Then she looked at the calendar to find a suitable day to go to the library. She made sure the library's opening hours were valid so that she wouldn't waste her time.\n",
      "bold_words: ['catalog', 'calendar', 'valid']\n",
      "clean_translation: 萨拉查看了目录，看看她想要的书是否有货。然后她看了看日历，找一个合适的日子去图书馆。她确保图书馆的开放时间是有效的，这样她就不会浪费自己的时间。\n",
      "bold_word_meanings: ['目录', '日历', '有效的']\n",
      "audio_path: D:\\Study\\AIAgent\\AIEnglishLearning\\output\\output_audio.wav\n"
     ]
    }
   ],
   "source": [
    "from core.video_info import VideoInfoCollector\n",
    "# Example usage\n",
    "index = 1\n",
    "print(f\"index: {index}\\nimage_prompt: {image_prompt}\\ntarget_words_and_meanings: {target_words_and_meanings}\\nclean_paragraph: {clean_paragraph}\\nbold_words: {bold_words}\\nclean_translation: {clean_translation}\\nbold_word_meanings: {bold_word_meanings}\\naudio_path: {output_audio_path}\")\n",
    "\n",
    "video_info_collector = VideoInfoCollector()\n",
    "video_info_collector.write(index, image_prompt, target_words_and_meanings, clean_paragraph, bold_words, clean_translation, bold_word_meanings, output_audio_path)\n"
   ]
  },
  {
   "cell_type": "code",
   "execution_count": 57,
   "metadata": {},
   "outputs": [],
   "source": [
    "from core.video_info import VideoInfoReader\n",
    "\n",
    "video_info_reader = VideoInfoReader('D:\\Study\\AIAgent\\AIEnglishLearning\\output\\info_for_video_generation_1002104332.csv')\n",
    "# Read the info_for_video_generation.csv\n",
    "csv_data = video_info_reader.read()\n",
    "\n",
    "# Print the data for verification\n",
    "# for row in csv_data:\n",
    "#     print(row['bold_words'][0])\n",
    "#     print(row['bold_word_meanings'][0])\n",
    "#     print(row['target_words_and_meanings'][0][1])\n",
    "\n",
    "# Generate image manually, and named with corresponding index\n",
    "\n"
   ]
  },
  {
   "cell_type": "code",
   "execution_count": 58,
   "metadata": {},
   "outputs": [
    {
     "name": "stdout",
     "output_type": "stream",
     "text": [
      "{'index': '1', 'image_prompt': '帮我生成图片：图片风格为「卡通」，比例为「1:1」，内容描述：萨拉查看了**目录**，看看她想要的书是否有货。然后她看了看**日历**，找一个合适的日子去图书馆。她确保图书馆的开放时间是**有效的**，这样她就不会浪费自己的时间。', 'target_words_and_meanings': [('catalog', 'n. 目录（册） v. 编目'), ('calendar', 'n. 日历，月历'), ('valid', 'a. 有效的，有根据的；正当的')], 'clean_paragraph': \"Sara checked the catalog to see if the book she wanted was available. Then she looked at the calendar to find a suitable day to go to the library. She made sure the library's opening hours were valid so that she wouldn't waste her time.\", 'bold_words': ['catalog', 'calendar', 'valid'], 'clean_translation': '萨拉查看了目录，看看她想要的书是否有货。然后她看了看日历，找一个合适的日子去图书馆。她确保图书馆的开放时间是有效的，这样她就不会浪费自己的时间。', 'bold_word_meanings': ['目录', '日历', '有效的'], 'audio_path': 'D:\\\\Study\\\\AIAgent\\\\AIEnglishLearning\\\\output\\\\output_audio.wav'}\n"
     ]
    }
   ],
   "source": [
    "# get the first element of the csv_data\n",
    "single_video_info_for_key_frame = next(csv_data)\n",
    "print(single_video_info_for_key_frame)\n"
   ]
  },
  {
   "cell_type": "code",
   "execution_count": 59,
   "metadata": {},
   "outputs": [
    {
     "name": "stdout",
     "output_type": "stream",
     "text": [
      "{'index': '1', 'image_prompt': '帮我生成图片：图片风格为「卡通」，比例为「1:1」，内容描述：萨拉查看了**目录**，看看她想要的书是否有货。然后她看了看**日历**，找一个合适的日子去图书馆。她确保图书馆的开放时间是**有效的**，这样她就不会浪费自己的时间。', 'target_words_and_meanings': [('catalog', 'n. 目录（册） v. 编目'), ('calendar', 'n. 日历，月历'), ('valid', 'a. 有效的，有根据的；正当的')], 'clean_paragraph': \"Sara checked the catalog to see if the book she wanted was available. Then she looked at the calendar to find a suitable day to go to the library. She made sure the library's opening hours were valid so that she wouldn't waste her time.\", 'bold_words': ['catalog', 'calendar', 'valid'], 'clean_translation': '萨拉查看了目录，看看她想要的书是否有货。然后她看了看日历，找一个合适的日子去图书馆。她确保图书馆的开放时间是有效的，这样她就不会浪费自己的时间。', 'bold_word_meanings': ['目录', '日历', '有效的'], 'audio_path': 'D:\\\\Study\\\\AIAgent\\\\AIEnglishLearning\\\\output\\\\output_audio.wav', 'key_frame_1': 'D:\\\\Study\\\\AIAgent\\\\AIEnglishLearning\\\\output\\\\1_key_frame_1.jpeg', 'key_frame_2': 'D:\\\\Study\\\\AIAgent\\\\AIEnglishLearning\\\\output\\\\1_key_frame_2.jpeg', 'key_frame_3': 'D:\\\\Study\\\\AIAgent\\\\AIEnglishLearning\\\\output\\\\1_key_frame_3.jpeg'}\n"
     ]
    }
   ],
   "source": [
    "from core.key_frame_creator import KeyFrameCreator\n",
    "key_frame_creator = KeyFrameCreator(single_video_info_for_key_frame)\n",
    "single_video_info_for_video = key_frame_creator.generate_all_key_frames()\n",
    "print(single_video_info_for_video)"
   ]
  },
  {
   "cell_type": "code",
   "execution_count": null,
   "metadata": {},
   "outputs": [],
   "source": [
    "\n",
    "from core.video_creator import VideoCreator\n",
    "video_creator = VideoCreator(single_video_info_for_video)\n",
    "video_path = video_creator.create_video()\n",
    "print(video_path)"
   ]
  }
 ],
 "metadata": {
  "kernelspec": {
   "display_name": "Python 3",
   "language": "python",
   "name": "python3"
  },
  "language_info": {
   "codemirror_mode": {
    "name": "ipython",
    "version": 3
   },
   "file_extension": ".py",
   "mimetype": "text/x-python",
   "name": "python",
   "nbconvert_exporter": "python",
   "pygments_lexer": "ipython3",
   "version": "3.10.6"
  }
 },
 "nbformat": 4,
 "nbformat_minor": 2
}
