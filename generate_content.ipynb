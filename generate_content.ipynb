{
 "cells": [
  {
   "cell_type": "code",
   "execution_count": 7,
   "metadata": {},
   "outputs": [
    {
     "name": "stdout",
     "output_type": "stream",
     "text": [
      "Cluster Label: 0\n",
      "[('catalog', 'n. 目录（册） v. 编目'), ('calendar', 'n. 日历，月历'), ('valid', 'a. 有效的，有根据的；正当的'), ('code', 'n. 准则，法规，密码'), ('advertise', 'v. 为...做广告'), ('advertisement', 'n. 广告'), ('secure', 'a. 安全的，可靠的'), ('register', 'v./n.登记，注册'), ('cancel', 'vt. 取消，废除'), ('comment', 'n./vt. 评论'), ('available', 'a. 现成可用的；可得到的'), ('entry', 'n. 进入，入口处；参赛的人（或物）'), ('resume', 'v. （中断后）重新开始'), ('sponsor', 'n. 发起者，主办者 vt. 发起，主办，资助'), ('vote', 'v. 选举 n. 选票'), ('discount', 'n. （价格）折扣'), ('fax', 'n./vt. 传真'), ('applicable', 'a. 可应用的，适当的'), ('guarantee', 'vt./n. 保证'), ('deposit', 'n. 存款，定金 v.存放，储蓄'), ('notify', 'vt. 通知，告知'), ('index', 'n. 索引，标志'), ('quotation', 'n. 引文，引语'), ('merchant', 'n. 商人'), ('passport', 'n. 护照'), ('submit', 'vi.(to)屈服，听从'), ('title', 'n. 题目，标题')]\n"
     ]
    }
   ],
   "source": [
    "from visualize_cluster import ClusterReader\n",
    "\n",
    "cluster_reader = ClusterReader('D:\\\\Study\\\\AIAgent\\\\output\\\\CET4_700_clustered_word_list.csv')\n",
    "\n",
    "iter_cluster = iter(cluster_reader)\n",
    "next(iter_cluster)\n",
    "cluster_label, group = next(iter_cluster)\n",
    "print(f\"Cluster Label: {cluster_label}\")\n",
    "word_meaning_tuples = list(zip(group['word'], group['meaning']))\n",
    "print(word_meaning_tuples)\n",
    "\n"
   ]
  },
  {
   "cell_type": "code",
   "execution_count": 8,
   "metadata": {},
   "outputs": [
    {
     "name": "stdout",
     "output_type": "stream",
     "text": [
      "[('catalog', 'n. 目录（册） v. 编目'), ('calendar', 'n. 日历，月历'), ('valid', 'a. 有效的，有根据的；正当的')]\n"
     ]
    }
   ],
   "source": [
    "target_word = word_meaning_tuples[:3]\n",
    "print(target_word)\n",
    "# generate sentence and translation and target words\n",
    "\n",
    "# generate the text2img prompt\n",
    "\n",
    "# generate the audio\n",
    "\n",
    "# save the index,image_prompt,target_words,sentence,translation,audio_path into csv\n",
    "\n",
    "# Generate image manually, and named with corresponding index\n",
    "\n",
    "# generate the video with audio, image and text\n"
   ]
  }
 ],
 "metadata": {
  "kernelspec": {
   "display_name": "Python 3",
   "language": "python",
   "name": "python3"
  },
  "language_info": {
   "codemirror_mode": {
    "name": "ipython",
    "version": 3
   },
   "file_extension": ".py",
   "mimetype": "text/x-python",
   "name": "python",
   "nbconvert_exporter": "python",
   "pygments_lexer": "ipython3",
   "version": "3.10.6"
  }
 },
 "nbformat": 4,
 "nbformat_minor": 2
}
