{
 "cells": [
  {
   "cell_type": "code",
   "execution_count": 2,
   "metadata": {},
   "outputs": [
    {
     "name": "stdout",
     "output_type": "stream",
     "text": [
      "Moviepy - Building video D:\\Study\\AIAgent\\AIEnglishLearning\\output\\cluster1_landscape\\3_video.mp4.\n",
      "MoviePy - Writing audio in 3_videoTEMP_MPY_wvf_snd.mp3\n"
     ]
    },
    {
     "name": "stderr",
     "output_type": "stream",
     "text": [
      "                                                                   \r"
     ]
    },
    {
     "name": "stdout",
     "output_type": "stream",
     "text": [
      "MoviePy - Done.\n",
      "Moviepy - Writing video D:\\Study\\AIAgent\\AIEnglishLearning\\output\\cluster1_landscape\\3_video.mp4\n",
      "\n"
     ]
    },
    {
     "name": "stderr",
     "output_type": "stream",
     "text": [
      "                                                              \r"
     ]
    },
    {
     "name": "stdout",
     "output_type": "stream",
     "text": [
      "Moviepy - Done !\n",
      "Moviepy - video ready D:\\Study\\AIAgent\\AIEnglishLearning\\output\\cluster1_landscape\\3_video.mp4\n",
      "D:\\Study\\AIAgent\\AIEnglishLearning\\output\\cluster1_landscape\\3_video.mp4\n"
     ]
    }
   ],
   "source": [
    "# [IMPORTANT] Generate image manually, and named with corresponding index\n",
    "\n",
    "\n",
    "import sys\n",
    "import os\n",
    "sys.path.append('D:\\\\Study\\\\AIAgent\\\\AIEnglishLearning\\\\core')\n",
    "from video_info import VideoInfoReader\n",
    "from landscape_key_frame_creator import LandscapeKeyFrameCreator\n",
    "from video_creator import VideoCreator\n",
    "\n",
    "\n",
    "TARGET_CLUSTER_LABEL = 1\n",
    "video_info_reader = VideoInfoReader(f\"D:\\Study\\AIAgent\\AIEnglishLearning\\output\\cluster{TARGET_CLUSTER_LABEL}\\info_for_video_generation_cluster_{TARGET_CLUSTER_LABEL}.csv\")\n",
    "# Read the info_for_video_generation.csv\n",
    "video_info_csv_data = video_info_reader.read()\n",
    "\n",
    "\n",
    "# get the first element of the csv_data\n",
    "for single_video_info_for_key_frame in video_info_csv_data:\n",
    "    index = single_video_info_for_key_frame['index']\n",
    "    if index !='3':\n",
    "        continue\n",
    "    single_video_info_for_key_frame['illustration_image_base_path'] = f\"D:\\\\Study\\\\AIAgent\\\\AIEnglishLearning\\\\output\\\\cluster{TARGET_CLUSTER_LABEL}\"\n",
    "    single_video_info_for_key_frame['header_image_path'] = f\"D:\\\\Study\\\\AIAgent\\\\AIEnglishLearning\\\\static_materials\\\\header.png\"\n",
    "    single_video_info_for_key_frame['output_path'] = f\"D:\\\\Study\\\\AIAgent\\\\AIEnglishLearning\\\\output\\\\cluster{TARGET_CLUSTER_LABEL}_landscape\\\\{index}_video.mp4\"\n",
    "    single_video_info_for_key_frame['bgm_path'] = 'D:\\\\Study\\\\AIAgent\\\\AIEnglishLearning\\\\static_materials\\\\scott-buckley-reverie(chosic.com).mp3'\n",
    "    single_video_info_for_key_frame['key_frame_output_base_path'] = f\"D:\\\\Study\\\\AIAgent\\\\AIEnglishLearning\\\\output\\\\cluster{TARGET_CLUSTER_LABEL}_landscape\"\n",
    "    if not os.path.exists(single_video_info_for_key_frame['audio_path']):\n",
    "        # keep the audio file name but change the path into the new one\n",
    "        audio_file_name = single_video_info_for_key_frame['audio_path'].split('\\\\')[-1]\n",
    "        single_video_info_for_key_frame['audio_path'] = f\"D:\\\\Study\\\\AIAgent\\\\AIEnglishLearning\\\\output\\\\cluster{TARGET_CLUSTER_LABEL}\\\\{audio_file_name}\"\n",
    "    output_dir = os.path.dirname(single_video_info_for_key_frame['output_path'])\n",
    "    if not os.path.exists(output_dir):\n",
    "        os.makedirs(output_dir)\n",
    "        print(f\"Create folder {output_dir}\")\n",
    "\n",
    "    key_frame_creator = LandscapeKeyFrameCreator(single_video_info_for_key_frame)\n",
    "    single_video_info_for_video = key_frame_creator.generate_all_key_frames()\n",
    "    # print(single_video_info_for_video)\n",
    "\n",
    "    video_creator = VideoCreator(single_video_info_for_video)\n",
    "    video_path = video_creator.create_video()\n",
    "    print(video_path)"
   ]
  }
 ],
 "metadata": {
  "kernelspec": {
   "display_name": "Python 3",
   "language": "python",
   "name": "python3"
  },
  "language_info": {
   "codemirror_mode": {
    "name": "ipython",
    "version": 3
   },
   "file_extension": ".py",
   "mimetype": "text/x-python",
   "name": "python",
   "nbconvert_exporter": "python",
   "pygments_lexer": "ipython3",
   "version": "3.10.6"
  }
 },
 "nbformat": 4,
 "nbformat_minor": 2
}
